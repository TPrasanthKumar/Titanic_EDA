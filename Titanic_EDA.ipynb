{
 "cells": [
  {
   "cell_type": "markdown",
   "metadata": {},
   "source": [
    "# Exploratory Data Analysis on Titanic Dataset\n",
    "\n",
    "This notebook performs an exploratory data analysis (EDA) on the Titanic dataset to uncover insights about passenger survival using statistical and visual methods. We will use Python libraries such as Pandas, Matplotlib, and Seaborn to analyze the data, identify trends, and visualize relationships. The deliverables include this Jupyter Notebook and a PDF report summarizing the findings."
   ]
  },
  {
   "cell_type": "markdown",
   "metadata": {},
   "source": [
    "## 1. Import Libraries and Load Data\n",
    "We start by importing the necessary libraries and loading the Titanic dataset from the provided Kaggle URL."
   ]
  },
  {
   "cell_type": "code",
   "execution_count": null,
   "metadata": {},
   "outputs": [],
   "source": [
    "import pandas as pd\n",
    "import matplotlib.pyplot as plt\n",
    "import seaborn as sns\n",
    "import numpy as np\n",
    "\n",
    "# Load the dataset (using a publicly available Titanic dataset)\n",
    "url = 'https://raw.githubusercontent.com/datasciencedojo/datasets/master/titanic.csv'\n",
    "df = pd.read_csv(url)\n",
    "\n",
    "# Display the first few rows\n",
    "df.head()"
   ]
  },
  {
   "cell_type": "markdown",
   "metadata": {},
   "source": [
    "## 2. Initial Data Exploration\n",
    "We use `.info()`, `.describe()`, and `.value_counts()` to understand the dataset's structure, summary statistics, and distribution of categorical variables."
   ]
  },
  {
   "cell_type": "code",
   "execution_count": null,
   "metadata": {},
   "outputs": [],
   "source": [
    "# Check dataset info\n",
    "df.info()\n",
    "\n",
    "# Summary statistics\n",
    "df.describe()\n",
    "\n",
    "# Check for missing values\n",
    "df.isnull().sum()\n",
    "\n",
    "# Value counts for categorical variables\n",
    "print('Survived:\\n', df['Survived'].value_counts())\n",
    "print('Pclass:\\n', df['Pclass'].value_counts())\n",
    "print('Sex:\\n', df['Sex'].value_counts())\n",
    "print('Embarked:\\n', df['Embarked'].value_counts())"
   ]
  },
  {
   "cell_type": "markdown",
   "metadata": {},
   "source": [
    "**Observations**:\n",
    "- The dataset has 891 rows and 12 columns.\n",
    "- Missing values: `Age` (177), `Cabin` (687), `Embarked` (2).\n",
    "- `Survived` is binary (0 = No, 1 = Yes), with 549 non-survivors and 342 survivors.\n",
    "- `Pclass` (passenger class) has three categories: 1, 2, 3.\n",
    "- `Sex` is categorical with 'male' and 'female'.\n",
    "- `Embarked` has three ports: S (Southampton), C (Cherbourg), Q (Queenstown)."
   ]
  },
  {
   "cell_type": "markdown",
   "metadata": {},
   "source": [
    "## 3. Data Cleaning\n",
    "Handle missing values and prepare the data for analysis."
   ]
  },
  {
   "cell_type": "code",
   "execution_count": null,
   "metadata": {},
   "outputs": [],
   "source": [
    "# Fill missing Age with median\n",
    "df['Age'].fillna(df['Age'].median(), inplace=True)\n",
    "\n",
    "# Fill missing Embarked with mode\n",
    "df['Embarked'].fillna(df['Embarked'].mode()[0], inplace=True)\n",
    "\n",
    "# Drop Cabin due to excessive missing values\n",
    "df.drop(columns=['Cabin'], inplace=True)\n",
    "\n",
    "# Verify missing values\n",
    "df.isnull().sum()"
   ]
  },
  {
   "cell_type": "markdown",
   "metadata": {},
   "source": [
    "**Observations**:\n",
    "- `Age` missing values filled with median (28.0).\n",
    "- `Embarked` missing values filled with mode ('S').\n",
    "- `Cabin` dropped due to 77% missing data."
   ]
  },
  {
   "cell_type": "markdown",
   "metadata": {},
   "source": [
    "## 4. Visualizations and Insights\n",
    "We use histograms, boxplots, scatterplots, pairplots, and heatmaps to identify relationships and trends."
   ]
  },
  {
   "cell_type": "markdown",
   "metadata": {},
   "source": [
    "### 4.1 Univariate Analysis\n",
    "#### Histogram of Age"
   ]
  },
  {
   "cell_type": "code",
   "execution_count": null,
   "metadata": {},
   "outputs": [],
   "source": [
    "plt.figure(figsize=(8, 6))\n",
    "sns.histplot(df['Age'], bins=30, kde=True)\n",
    "plt.title('Age Distribution of Passengers')\n",
    "plt.xlabel('Age')\n",
    "plt.ylabel('Count')\n",
    "plt.savefig('age_histogram.png')\n",
    "plt.close()"
   ]
  },
  {
   "cell_type": "markdown",
   "metadata": {},
   "source": [
    "**Observations**:\n",
    "- The age distribution is right-skewed, with a peak around 20-30 years.\n",
    "- Many passengers are young adults; fewer children and elderly."
   ]
  },
  {
   "cell_type": "markdown",
   "metadata": {},
   "source": [
    "#### Boxplot of Fare"
   ]
  },
  {
   "cell_type": "code",
   "execution_count": null,
   "metadata": {},
   "outputs": [],
   "source": [
    "plt.figure(figsize=(8, 6))\n",
    "sns.boxplot(y=df['Fare'])\n",
    "plt.title('Fare Distribution')\n",
    "plt.ylabel('Fare')\n",
    "plt.savefig('fare_boxplot.png')\n",
    "plt.close()"
   ]
  },
  {
   "cell_type": "markdown",
   "metadata": {},
   "source": [
    "**Observations**:\n",
    "- The fare distribution is highly skewed with many outliers.\n",
    "- Most fares are below 100, but some passengers paid significantly more (up to 512)."
   ]
  },
  {
   "cell_type": "markdown",
   "metadata": {},
   "source": [
    "### 4.2 Bivariate Analysis\n",
    "#### Survival Rate by Sex"
   ]
  },
  {
   "cell_type": "code",
   "execution_count": null,
   "metadata": {},
   "outputs": [],
   "source": [
    "plt.figure(figsize=(8, 6))\n",
    "sns.barplot(x='Sex', y='Survived', data=df)\n",
    "plt.title('Survival Rate by Sex')\n",
    "plt.ylabel('Survival Rate')\n",
    "plt.savefig('survival_by_sex.png')\n",
    "plt.close()"
   ]
  },
  {
   "cell_type": "markdown",
   "metadata": {},
   "source": [
    "**Observations**:\n",
    "- Females had a much higher survival rate (~74%) compared to males (~19%).\n",
    "- This suggests a 'women first' policy during evacuation."
   ]
  },
  {
   "cell_type": "markdown",
   "metadata": {},
   "source": [
    "#### Survival Rate by Passenger Class"
   ]
  },
  {
   "cell_type": "code",
   "execution_count": null,
   "metadata": {},
   "outputs": [],
   "source": [
    "plt.figure(figsize=(8, 6))\n",
    "sns.barplot(x='Pclass', y='Survived', data=df)\n",
    "plt.title('Survival Rate by Passenger Class')\n",
    "plt.ylabel('Survival Rate')\n",
    "plt.savefig('survival_by_pclass.png')\n",
    "plt.close()"
   ]
  },
  {
   "cell_type": "markdown",
   "metadata": {},
   "source": [
    "**Observations**:\n",
    "- 1st class passengers had the highest survival rate (~63%), followed by 2nd class (~47%), and 3rd class (~24%).\n",
    "- Higher socio-economic status likely influenced access to lifeboats."
   ]
  },
  {
   "cell_type": "markdown",
   "metadata": {},
   "source": [
    "#### Scatterplot of Age vs. Fare"
   ]
  },
  {
   "cell_type": "code",
   "execution_count": null,
   "metadata": {},
   "outputs": [],
   "source": [
    "plt.figure(figsize=(8, 6))\n",
    "sns.scatterplot(x='Age', y='Fare', hue='Survived', data=df)\n",
    "plt.title('Age vs. Fare by Survival')\n",
    "plt.savefig('age_vs_fare_scatter.png')\n",
    "plt.close()"
   ]
  },
  {
   "cell_type": "markdown",
   "metadata": {},
   "source": [
    "**Observations**:\n",
    "- No clear linear relationship between age and fare.\n",
    "- Higher fares are associated with survival, especially for passengers paying >100.\n",
    "- Survivors are spread across all ages."
   ]
  },
  {
   "cell_type": "markdown",
   "metadata": {},
   "source": [
    "### 4.3 Multivariate Analysis\n",
    "#### Pairplot of Numerical Features"
   ]
  },
  {
   "cell_type": "code",
   "execution_count": null,
   "metadata": {},
   "outputs": [],
   "source": [
    "sns.pairplot(df[['Age', 'Fare', 'Pclass', 'Survived']], hue='Survived')\n",
    "plt.savefig('pairplot.png')\n",
    "plt.close()"
   ]
  },
  {
   "cell_type": "markdown",
   "metadata": {},
   "source": [
    "**Observations**:\n",
    "- `Pclass` and `Fare` show some separation between survivors and non-survivors.\n",
    "- Lower `Pclass` (1st class) and higher `Fare` are associated with survival.\n",
    "- `Age` does not show a strong pattern with survival."
   ]
  },
  {
   "cell_type": "markdown",
   "metadata": {},
   "source": [
    "#### Correlation Heatmap"
   ]
  },
  {
   "cell_type": "code",
   "execution_count": null,
   "metadata": {},
   "outputs": [],
   "source": [
    "plt.figure(figsize=(10, 8))\n",
    "corr = df[['Age', 'Fare', 'Pclass', 'SibSp', 'Parch', 'Survived']].corr()\n",
    "sns.heatmap(corr, annot=True, cmap='coolwarm', vmin=-1, vmax=1)\n",
    "plt.title('Correlation Heatmap')\n",
    "plt.savefig('correlation_heatmap.png')\n",
    "plt.close()"
   ]
  },
  {
   "cell_type": "markdown",
   "metadata": {},
   "source": [
    "**Observations**:\n",
    "- `Survived` has a moderate negative correlation with `Pclass` (-0.34), indicating higher classes had better survival odds.\n",
    "- `Fare` has a positive correlation with `Survived` (0.26), suggesting wealthier passengers were more likely to survive.\n",
    "- `Age` has a weak correlation with `Survived` (-0.08), indicating age alone is not a strong predictor."
   ]
  },
  {
   "cell_type": "markdown",
   "metadata": {},
   "source": [
    "## 5. Summary of Findings\n",
    "1. **Survival Rates**:\n",
    "   - Females had a significantly higher survival rate (74%) than males (19%), likely due to prioritization during evacuation.\n",
    "   - 1st class passengers had the highest survival rate (63%), followed by 2nd (47%) and 3rd class (24%), indicating socio-economic status played a role.\n",
    "\n",
    "2. **Demographics**:\n",
    "   - The majority of passengers were young adults (20-30 years), with fewer children and elderly.\n",
    "   - Age alone was not a strong predictor of survival, though younger passengers slightly outnumbered older survivors.\n",
    "\n",
    "3. **Economic Factors**:\n",
    "   - Higher fares were associated with survival, likely because they corresponded to 1st class tickets.\n",
    "   - The fare distribution was highly skewed, with a few passengers paying significantly more.\n",
    "\n",
    "4. **Relationships**:\n",
    "   - `Pclass` and `Fare` showed the strongest relationships with survival.\n",
    "   - No strong correlation between `Age` and other variables, but `Pclass` and `Fare` were moderately correlated (-0.55).\n",
    "\n",
    "5. **Data Quality**:\n",
    "   - Missing values in `Age` and `Embarked` were handled appropriately.\n",
    "   - `Cabin` was dropped due to excessive missing data, which may limit analysis of cabin location effects.\n"
   ]
  },
  {
   "cell_type": "code",
   "execution_count": null,
   "metadata": {},
   "outputs": [],
   "source": []
  }
 ],
 "metadata": {
  "kernelspec": {
   "display_name": "Python [conda env:base] *",
   "language": "python",
   "name": "conda-base-py"
  },
  "language_info": {
   "codemirror_mode": {
    "name": "ipython",
    "version": 3
   },
   "file_extension": ".py",
   "mimetype": "text/x-python",
   "name": "python",
   "nbconvert_exporter": "python",
   "pygments_lexer": "ipython3",
   "version": "3.10.9"
  }
 },
 "nbformat": 4,
 "nbformat_minor": 4
}
